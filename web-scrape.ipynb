{
 "cells": [
  {
   "cell_type": "code",
   "execution_count": 1,
   "metadata": {},
   "outputs": [],
   "source": [
    "import requests\n",
    "from bs4 import BeautifulSoup"
   ]
  },
  {
   "cell_type": "code",
   "execution_count": 5,
   "metadata": {},
   "outputs": [
    {
     "name": "stderr",
     "output_type": "stream",
     "text": [
      "2024-06-15 16:14:13 [urllib3.connectionpool] DEBUG: Starting new HTTPS connection (1): www.wayfair.com:443\n",
      "2024-06-15 16:14:13 [urllib3.connectionpool] DEBUG: https://www.wayfair.com:443 \"GET /furniture/sb0/sofas-c413892.html HTTP/1.1\" 200 None\n"
     ]
    }
   ],
   "source": [
    "import requests\n",
    "from bs4 import BeautifulSoup\n",
    "\n",
    "# URL of the Macy's living room furniture page\n",
    "url = \"https://www.wayfair.com/furniture/sb0/sofas-c413892.html\"\n",
    "\n",
    "# Set headers to mimic a browser request\n",
    "headers = {\n",
    "    \"User-Agent\": \"Mozilla/5.0 (Windows NT 10.0; Win64; x64) AppleWebKit/537.36 (KHTML, like Gecko) Chrome/91.0.4472.124 Safari/537.36\",\n",
    "    \"Accept-Language\": \"en-US,en;q=0.9\",\n",
    "}\n",
    "\n",
    "# Send a GET request to fetch the page content\n",
    "response = requests.get(url, headers=headers)\n",
    "response.raise_for_status()  # Check if the request was successful\n",
    "\n",
    "with open('macys_living_room_furniture.html', 'w', encoding='utf-8') as file:\n",
    "    file.write(response.text)\n",
    "\n",
    "# Parse the HTML content using BeautifulSoup\n",
    "soup = BeautifulSoup(response.text, 'html.parser')\n",
    "\n",
    "# Find the relevant elements containing the furniture items\n",
    "# This might need adjustments based on the actual structure of the webpage\n",
    "items = soup.find_all('div', class_='productThumbnail')\n",
    "\n",
    "# Extract information about each item\n",
    "furniture_data = []\n",
    "for item in items:\n",
    "    try:\n",
    "        name = item.find('a', class_='productDescLink').get_text(strip=True)\n",
    "        price = item.find('div', class_='priceInfo').get_text(strip=True)\n",
    "        link = item.find('a', class_='productDescLink')['href']\n",
    "        furniture_data.append({\n",
    "            'name': name,\n",
    "            'price': price,\n",
    "            'link': link\n",
    "        })\n",
    "    except AttributeError:\n",
    "        continue"
   ]
  },
  {
   "cell_type": "markdown",
   "metadata": {},
   "source": [
    "# Diffbot to scrape Wayfair"
   ]
  },
  {
   "cell_type": "code",
   "execution_count": 3,
   "metadata": {},
   "outputs": [
    {
     "name": "stdout",
     "output_type": "stream",
     "text": [
      "{\n",
      "    \"request\": {\n",
      "        \"options\": [\n",
      "            \"discussion=False\",\n",
      "            \"mode=product\"\n",
      "        ],\n",
      "        \"pageUrl\": \"https://www.wayfair.com/furniture/sb0/sofas-c413892.html\",\n",
      "        \"api\": \"analyze\",\n",
      "        \"version\": 3\n",
      "    },\n",
      "    \"humanLanguage\": \"en\",\n",
      "    \"objects\": [],\n",
      "    \"type\": \"list\",\n",
      "    \"title\": \"Sofas & Couches | Wayfair\"\n",
      "}\n"
     ]
    }
   ],
   "source": [
    "import requests\n",
    "import json\n",
    "from base64 import b64decode\n",
    "\n",
    "# Your Diffbot API token\n",
    "API_TOKEN = 'f0f351486afc71bd5f4aec4cfe57ddc6'\n",
    "\n",
    "# The URL you want to analyze\n",
    "url = 'https://www.wayfair.com/furniture/sb0/sofas-c413892.html'\n",
    "\n",
    "# Diffbot's Analyze API endpoint\n",
    "api_endpoint = 'https://api.diffbot.com/v3/analyze'\n",
    "\n",
    "# Parameters for the API request\n",
    "params = {\n",
    "    'token': API_TOKEN,\n",
    "    'url': url,\n",
    "    'mode': 'product',\n",
    "    'discussion': False\n",
    "}\n",
    "\n",
    "# Make the API request\n",
    "response = requests.get(api_endpoint, params=params)\n",
    "\n",
    "# Check if the request was successful\n",
    "if response.status_code == 200:\n",
    "    data = response.json()\n",
    "    \n",
    "    # Print and save the response\n",
    "    with open('diffbot_wayfair_response.json', 'w') as json_file:\n",
    "        json.dump(data, json_file, indent=4)\n",
    "    \n",
    "    print(json.dumps(data, indent=4))\n",
    "else:\n",
    "    print(f\"Error: {response.status_code}\")\n",
    "    print(response.json())\n"
   ]
  },
  {
   "cell_type": "markdown",
   "metadata": {},
   "source": [
    "# WayFair using scrapy"
   ]
  },
  {
   "cell_type": "code",
   "execution_count": 7,
   "metadata": {},
   "outputs": [],
   "source": [
    "import scrapy\n",
    "\n",
    "class WayfairSpider(scrapy.Spider):\n",
    "    name = 'wayfair'\n",
    "    allowed_domains = ['wayfair.com']\n",
    "    start_urls = ['https://www.wayfair.com/furniture/sb0/sofas-c413892.html']\n",
    "\n",
    "    def parse(self, response):\n",
    "        products = response.css('div.PlProductCard-content')  # Adjust the selector based on the HTML structure\n",
    "\n",
    "        for product in products:\n",
    "            title = product.css('span.PlProductCard-title::text').get().strip()\n",
    "            price = product.css('div.PlProductCard-price::text').get().strip()\n",
    "            image_url = product.css('img::attr(src)').get()\n",
    "            link = product.css('a::attr(href)').get()\n",
    "\n",
    "            yield {\n",
    "                'title': title,\n",
    "                'price': price,\n",
    "                'image_url': image_url,\n",
    "                'link': response.urljoin(link)\n",
    "            }\n",
    "\n",
    "        # Follow pagination links (if any)\n",
    "        next_page = response.css('a[rel=\"next\"]::attr(href)').get()\n",
    "        if next_page is not None:\n",
    "            yield response.follow(next_page, self.parse)\n"
   ]
  },
  {
   "cell_type": "markdown",
   "metadata": {},
   "source": [
    "# Ebay API \n",
    "\n",
    "## Getting key using OAuth"
   ]
  },
  {
   "cell_type": "code",
   "execution_count": 9,
   "metadata": {},
   "outputs": [],
   "source": [
    "import os\n",
    "from dotenv import load_dotenv\n",
    "import requests\n",
    "import base64\n",
    "import json\n",
    "\n",
    "# Load environment variables from .env file\n",
    "load_dotenv()\n",
    "\n",
    "# Get the environment variables\n",
    "CLIENT_ID = os.getenv('EBAY_APP_ID')\n",
    "CLIENT_SECRET = os.getenv('EBAY_CERT_ID')\n",
    "OAUTH_URL = 'https://api.ebay.com/identity/v1/oauth2/token'\n",
    "\n",
    "# Encode the client ID and client secret\n",
    "credentials = base64.b64encode(f'{CLIENT_ID}:{CLIENT_SECRET}'.encode('utf-8')).decode('utf-8')\n",
    "\n",
    "headers = {\n",
    "    'Content-Type': 'application/x-www-form-urlencoded',\n",
    "    'Authorization': f'Basic {credentials}'\n",
    "}\n",
    "\n",
    "data = {\n",
    "    'grant_type': 'client_credentials',\n",
    "    'scope': 'https://api.ebay.com/oauth/api_scope'\n",
    "}\n",
    "\n",
    "response = requests.post(OAUTH_URL, headers=headers, data=data)\n",
    "if response.status_code == 200:\n",
    "    access_token = response.json()['access_token']\n",
    "    # print(f'Access Token: {access_token}')\n",
    "else:\n",
    "    print(f'Error: {response.status_code}')\n",
    "    print(response.json())\n"
   ]
  },
  {
   "cell_type": "markdown",
   "metadata": {},
   "source": [
    "## Using item_summary/search"
   ]
  },
  {
   "cell_type": "code",
   "execution_count": 10,
   "metadata": {},
   "outputs": [
    {
     "name": "stdout",
     "output_type": "stream",
     "text": [
      "Title: 2 Seater Velvet Sofa Modern Small Loveseat Couch for Bedroom Living Room Studio\n",
      "Price: 139.99 USD\n",
      "Item URL: https://www.ebay.com/itm/196217192737?var=496063550789&hash=item2daf74c121:g:fbcAAOSwL6pluGCf&amdata=enc%3AAQAJAAAA4PEaUTtyjRomc%2FfZSCEH8KizbMoUo%2FEgtt7RvBI5iveetYdLhg41zuttrVtMTz0dl6dz8jVZPkbhgIL8sgBG2EufumXDvLBUinE7Vnh9UNzS7On4DooXzYGf9SvAyhDDVH%2Fs07a4q54sGy2whO7QI5l7qL5Zlea0HUoHgva4uSAdNWYgrzf2kdWAoMzfgESZ9%2BjC1pEgUck6gGYrkD2Oj3gNzFkalnwuEmYRqehJ0fCik%2F4VaK8w9gv2lFntqn9l18K3wgUPENhfTxlE20UoP8IC3hgipdoiHWfuZOKeu5pf\n",
      "\n",
      "\n",
      "Title: FREE SHIPPING!! futon sofa couch bed sleeper In PINK\n",
      "Price: 225.00 USD\n",
      "Item URL: https://www.ebay.com/itm/375458391698?hash=item576b106692:g:dcgAAOSwuFxmWIml&amdata=enc%3AAQAJAAAA4NiAsWLxb55ZmGnJAUngvU8zE1mGmH30kv9I6GMaUM%2BMhG9bDg5j8oSp%2B%2BX6kbJkSqvnxpzcXcRNKCGw6%2FhBbYs2xeutAg9pTBniEcloAZImF6h5Zm1PHlsxhNrv5qM9K5iKXCmWyF5NlZtZzf%2BlcIXA5hDX1OOjNRfIgBFeq%2BOypjNuBq4shaE4stnR9J1ZW3gcs0OlrdZiEl005K0bQ6PLki8GqKf8XBgS5BtoSBOEVJyc%2BXqPV6VXHCIJxh7xaUJBeKKxLwDUfmkE70f5%2Bwoy6%2FFEY7HiRReZyQYfOYIU\n",
      "\n",
      "\n",
      "Title: Velvet Couch 3 Seats Sofa Pink & Green & Beige\n",
      "Price: 229.00 USD\n",
      "Item URL: https://www.ebay.com/itm/374766857563?hash=item5741d86d5b:g:ZNgAAOSwJmBkkkYL&amdata=enc%3AAQAJAAAA4DisBPxE8SJX0of%2Fd6kSPx%2B2DVD%2FL740ZdCoorRutAnrRXYz9bS4L9wyGzKuvbNPw9y0Zd24gCEw%2FHxAT6MPy0WbWpZ%2FpwSS%2BJp%2B%2Bx7nnewMmxi8gNo2O64YXqFIKEbb66%2Ftimq2%2B1ZobY7SBFWbd2tvBzha8vnzHyw5%2FGAjGaX0gR98Xs1xUAar14yy2AkHoMfVcCPwlJW9VXJaDbD76E4rEWuOs97MyFoHkRXjuP3vkOSI4SQBxgw0qR58S1M84c4g7s63Agsuwi%2FgFl2mC0AusQKftA1ec5QaiNrv8JVm\n",
      "\n",
      "\n"
     ]
    }
   ],
   "source": [
    "import requests\n",
    "import json\n",
    "\n",
    "# Replace with your eBay OAuth token\n",
    "ACCESS_TOKEN = access_token  # Use the token obtained from the previous step\n",
    "endpoint = 'https://api.ebay.com/buy/browse/v1/item_summary/search'\n",
    "\n",
    "# Set up the request headers\n",
    "headers = {\n",
    "    'Authorization': f'Bearer {ACCESS_TOKEN}',\n",
    "    'Content-Type': 'application/json',\n",
    "}\n",
    "\n",
    "# Set up the query parameters\n",
    "params = {\n",
    "    'q': 'sofa pink',  # Search keyword\n",
    "    'limit': 3      # Number of results per page\n",
    "}\n",
    "\n",
    "# Make the API request\n",
    "response = requests.get(endpoint, headers=headers, params=params)\n",
    "\n",
    "# Check if the request was successful\n",
    "if response.status_code == 200:\n",
    "    data = response.json()\n",
    "    items = data.get('itemSummaries', [])\n",
    "\n",
    "    # Print and save the response\n",
    "    with open('ebay_browse_search_results.json', 'w') as file:\n",
    "        json.dump(items, file, indent=4)\n",
    "    \n",
    "    # Print the results\n",
    "    for item in items:\n",
    "        title = item.get('title', 'No title')\n",
    "        price = item.get('price', {}).get('value', 'No price')\n",
    "        currency = item.get('price', {}).get('currency', 'No currency')\n",
    "        item_url = item.get('itemWebUrl', 'No URL')\n",
    "        print(f'Title: {title}')\n",
    "        print(f'Price: {price} {currency}')\n",
    "        print(f'Item URL: {item_url}')\n",
    "        print('\\n')\n",
    "else:\n",
    "    print(f'Error: {response.status_code}')\n",
    "    print(response.json())\n"
   ]
  }
 ],
 "metadata": {
  "kernelspec": {
   "display_name": "Python 3",
   "language": "python",
   "name": "python3"
  },
  "language_info": {
   "codemirror_mode": {
    "name": "ipython",
    "version": 3
   },
   "file_extension": ".py",
   "mimetype": "text/x-python",
   "name": "python",
   "nbconvert_exporter": "python",
   "pygments_lexer": "ipython3",
   "version": "3.10.12"
  }
 },
 "nbformat": 4,
 "nbformat_minor": 2
}
