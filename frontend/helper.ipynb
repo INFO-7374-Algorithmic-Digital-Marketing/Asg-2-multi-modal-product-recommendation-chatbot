{
 "cells": [
  {
   "cell_type": "code",
   "execution_count": 1,
   "metadata": {},
   "outputs": [],
   "source": [
    "from google.cloud import storage\n",
    "from dotenv import load_dotenv\n",
    "import os\n",
    "\n",
    "load_dotenv()\n",
    "\n",
    "bucket_name = os.getenv('BUCKET_NAME')\n",
    "\n",
    "def upload_blob(source_file_name, destination_blob_name, bucket_name=bucket_name):\n",
    "    \"\"\"Uploads a file to the bucket.\"\"\"\n",
    "\n",
    "    storage_client = storage.Client()\n",
    "    bucket = storage_client.bucket(bucket_name)\n",
    "    blob = bucket.blob(destination_blob_name)\n",
    "\n",
    "    blob.upload_from_filename(source_file_name)\n",
    "\n",
    "    print(\n",
    "        \"File {} uploaded to {}.\".format(\n",
    "            source_file_name, destination_blob_name\n",
    "        )\n",
    "    )\n",
    "\n",
    "# Call the function\n",
    "\n",
    "from google.cloud import storage\n",
    "\n",
    "\n",
    "def upload_blob(source_file_name, destination_blob_name, bucket_name=bucket_name):\n",
    "    \"\"\"Uploads a file to the bucket.\"\"\"\n",
    "    storage_client = storage.Client()\n",
    "    bucket = storage_client.bucket(bucket_name)\n",
    "    blob = bucket.blob(destination_blob_name)\n",
    "\n",
    "    generation_match_precondition = 0\n",
    "\n",
    "    blob.upload_from_filename(source_file_name, if_generation_match=generation_match_precondition)\n",
    "\n",
    "    print(\n",
    "        f\"File {source_file_name} uploaded to {destination_blob_name}.\"\n",
    "    )\n",
    "\n"
   ]
  },
  {
   "cell_type": "code",
   "execution_count": 2,
   "metadata": {},
   "outputs": [
    {
     "name": "stdout",
     "output_type": "stream",
     "text": [
      "File /home/snehilaryan/algorithmic-marketing/multi-modal-product-recommendation-chatbot/images/v1|235513544811|535694277278_0.jpg uploaded to user_images/my-image.jpg.\n"
     ]
    }
   ],
   "source": [
    "source_file_name = '/home/snehilaryan/algorithmic-marketing/multi-modal-product-recommendation-chatbot/images/v1|235513544811|535694277278_0.jpg'\n",
    "upload_blob(source_file_name, 'user_images/my-image.jpg')"
   ]
  }
 ],
 "metadata": {
  "kernelspec": {
   "display_name": ".venv",
   "language": "python",
   "name": "python3"
  },
  "language_info": {
   "codemirror_mode": {
    "name": "ipython",
    "version": 3
   },
   "file_extension": ".py",
   "mimetype": "text/x-python",
   "name": "python",
   "nbconvert_exporter": "python",
   "pygments_lexer": "ipython3",
   "version": "3.10.12"
  }
 },
 "nbformat": 4,
 "nbformat_minor": 2
}
