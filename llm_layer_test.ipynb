{
 "cells": [
  {
   "cell_type": "markdown",
   "metadata": {},
   "source": [
    "# Installing the required libraries"
   ]
  },
  {
   "cell_type": "code",
   "execution_count": 1,
   "metadata": {},
   "outputs": [],
   "source": [
    "# !pip install torch\n",
    "# !pip install git+https://github.com/openai/CLIP.git\n",
    "# !pip install matplotlib"
   ]
  },
  {
   "cell_type": "markdown",
   "metadata": {},
   "source": [
    "# Let's run a few experiments to get some functionalities up and running and we'll later decide which of these would be the final solution."
   ]
  },
  {
   "cell_type": "markdown",
   "metadata": {},
   "source": [
    "## Here's our sample dataset"
   ]
  },
  {
   "cell_type": "code",
   "execution_count": 2,
   "metadata": {},
   "outputs": [
    {
     "data": {
      "text/plain": [
       "[{'item_name': 'Stainless Steel Cutlery Set',\n",
       "  'category': 'Cutlery',\n",
       "  'color': 'Stainless Steel',\n",
       "  'description': 'A set of 12 stainless steel cutlery pieces, including forks, knives, spoons, and a salad server. Dishwasher safe.',\n",
       "  'image_url': 'https://shared-data-7374.s3.amazonaws.com/temp/1.jpeg'},\n",
       " {'item_name': 'Ceramic Dinner Plates',\n",
       "  'category': 'Dinnerware',\n",
       "  'color': 'White',\n",
       "  'description': 'A set of 4 ceramic dinner plates with a white glaze and a delicate pattern. Dishwasher and microwave safe.',\n",
       "  'image_url': 'https://shared-data-7374.s3.amazonaws.com/temp/2.jpeg'},\n",
       " {'item_name': 'Glass Wine Glasses',\n",
       "  'category': 'Drinkware',\n",
       "  'color': 'Clear',\n",
       "  'description': 'A set of 6 glass wine glasses with a stem and a narrow bowl. Dishwasher safe.',\n",
       "  'image_url': 'https://shared-data-7374.s3.amazonaws.com/temp/3.jpeg'},\n",
       " {'item_name': 'Stainless Steel Water Bottles',\n",
       "  'category': 'Drinkware',\n",
       "  'color': 'Stainless Steel',\n",
       "  'description': 'A set of 2 stainless steel water bottles with a leak-proof lid and a straw. BPA-free and dishwasher safe.',\n",
       "  'image_url': 'https://shared-data-7374.s3.amazonaws.com/temp/4.jpg'},\n",
       " {'item_name': 'Cotton Dinner Napkins',\n",
       "  'category': 'Table Linens',\n",
       "  'color': 'White',\n",
       "  'description': 'A set of 12 cotton dinner napkins with a white color and a linen texture. Machine washable.',\n",
       "  'image_url': 'https://shared-data-7374.s3.amazonaws.com/temp/5.jpeg'},\n",
       " {'item_name': 'Wood Dining Table',\n",
       "  'category': 'Dining Tables',\n",
       "  'color': 'Brown',\n",
       "  'description': 'A solid wood dining table with a brown finish and a rectangular shape. Seats up to 6 people.',\n",
       "  'image_url': 'https://shared-data-7374.s3.amazonaws.com/temp/6.jpg'},\n",
       " {'item_name': 'Glass Dining Table',\n",
       "  'category': 'Dining Tables',\n",
       "  'color': 'Clear',\n",
       "  'description': 'A glass dining table with a sleek design and a rectangular shape. Seats up to 4 people.',\n",
       "  'image_url': 'https://shared-data-7374.s3.amazonaws.com/temp/7.jpg'},\n",
       " {'item_name': 'Metal Dining Table',\n",
       "  'category': 'Dining Tables',\n",
       "  'color': 'Silver',\n",
       "  'description': 'A metal dining table with a silver finish and a rectangular shape. Seats up to 8 people.',\n",
       "  'image_url': 'https://shared-data-7374.s3.amazonaws.com/temp/8.jpg'},\n",
       " {'item_name': 'Extendable Dining Table',\n",
       "  'category': 'Dining Tables',\n",
       "  'color': 'Brown',\n",
       "  'description': 'An extendable dining table with a black finish and a rectangular shape. Seats up to 10 people.',\n",
       "  'image_url': 'https://shared-data-7374.s3.amazonaws.com/temp/9.jpg'},\n",
       " {'item_name': 'Farmhouse Dining Table',\n",
       "  'category': 'Dining Tables',\n",
       "  'color': 'White',\n",
       "  'description': 'A farmhouse dining table with a white finish and a rectangular shape. Seats up to 6 people.',\n",
       "  'image_url': 'https://shared-data-7374.s3.amazonaws.com/temp/10.jpeg'}]"
      ]
     },
     "execution_count": 2,
     "metadata": {},
     "output_type": "execute_result"
    }
   ],
   "source": [
    "import json\n",
    "data = json.loads(open('data/temp_data.json').read())\n",
    "data"
   ]
  },
  {
   "cell_type": "markdown",
   "metadata": {},
   "source": [
    "## Experiment 1 : Given an image - get me N similar images from the dataset"
   ]
  },
  {
   "cell_type": "markdown",
   "metadata": {},
   "source": [
    "### Step 1 : Preparing dataset"
   ]
  },
  {
   "cell_type": "code",
   "execution_count": 3,
   "metadata": {},
   "outputs": [
    {
     "name": "stdout",
     "output_type": "stream",
     "text": [
      "Embeddings shape: (10, 1, 512)\n"
     ]
    }
   ],
   "source": [
    "import json\n",
    "import requests\n",
    "import torch\n",
    "import clip\n",
    "from PIL import Image\n",
    "import numpy as np\n",
    "import matplotlib.pyplot as plt\n",
    "\n",
    "# Load the JSON file\n",
    "with open('data/temp_data.json') as f:\n",
    "    data = json.load(f)\n",
    "\n",
    "# Extract the image URLs\n",
    "image_urls = [item['image_url'] for item in data]\n",
    "\n",
    "# Load the CLIP model and processor\n",
    "device = \"cuda\" if torch.cuda.is_available() else \"cpu\"\n",
    "model, preprocess = clip.load(\"ViT-B/32\", device=device)\n",
    "\n",
    "# Generate embeddings for each image\n",
    "embeddings = []\n",
    "for url in image_urls:\n",
    "    image = Image.open(requests.get(url, stream=True).raw)\n",
    "    image = preprocess(image).unsqueeze(0).to(device)\n",
    "    with torch.no_grad():\n",
    "        embedding = model.encode_image(image)\n",
    "    embeddings.append(embedding.cpu().numpy())\n",
    "\n",
    "# Convert the embeddings to a numpy array\n",
    "embeddings = np.array(embeddings)\n",
    "\n",
    "# Print the dimensions of the embeddings\n",
    "print(\"Embeddings shape:\", embeddings.shape)\n",
    "\n"
   ]
  },
  {
   "cell_type": "markdown",
   "metadata": {},
   "source": [
    "### Step 2 : Creating Functionality to query the dataset"
   ]
  },
  {
   "cell_type": "code",
   "execution_count": 4,
   "metadata": {},
   "outputs": [],
   "source": [
    "# Define the function to retrieve similar images\n",
    "def get_similar_images(image_url, n=5):\n",
    "    # Generate the embedding for the input image\n",
    "    # image = Image.open(requests.get(image_url, stream=True).raw)\n",
    "    image = Image.open(image_url)\n",
    "    image = preprocess(image).unsqueeze(0).to(device)\n",
    "    with torch.no_grad():\n",
    "        embedding = model.encode_image(image)\n",
    "    embedding = embedding.cpu().numpy()\n",
    "\n",
    "    # Calculate the cosine similarity between the input embedding and all other embeddings\n",
    "    similarities = np.dot(embeddings, embedding.T).flatten()\n",
    "\n",
    "    # Retrieve the indices of the N most similar images\n",
    "    indices = np.argsort(similarities)[-n:][::-1]\n",
    "\n",
    "    # Retrieve the similar image URLs\n",
    "    similar_urls = [image_urls[i] for i in indices]\n",
    "\n",
    "    return similar_urls\n",
    "\n",
    "# Define the function to display the input image and the N most similar images\n",
    "def display_images(input_url, similar_urls):\n",
    "    # Display the input image\n",
    "    input_image = Image.open(input_url)\n",
    "    plt.subplot(1, len(similar_urls) + 1, 1)\n",
    "    plt.imshow(input_image)\n",
    "    plt.title(\"Input Image\")\n",
    "    plt.axis(\"off\")\n",
    "\n",
    "    # Display the N most similar images\n",
    "    for i, url in enumerate(similar_urls):\n",
    "        image = Image.open(requests.get(url, stream=True).raw)\n",
    "        plt.subplot(1, len(similar_urls) + 1, i + 2)\n",
    "        plt.imshow(image)\n",
    "        plt.title(f\"Similar Image {i + 1}\")\n",
    "        plt.axis(\"off\")\n",
    "\n",
    "    plt.show()\n"
   ]
  },
  {
   "cell_type": "markdown",
   "metadata": {},
   "source": [
    "### Testing the functionality"
   ]
  },
  {
   "cell_type": "code",
   "execution_count": 5,
   "metadata": {},
   "outputs": [
    {
     "data": {
      "image/png": "[encoded data removed]",
      "text/plain": [
       "<Figure size 640x480 with 4 Axes>"
      ]
     },
     "metadata": {},
     "output_type": "display_data"
    }
   ],
   "source": [
    "\n",
    "input_url = 'data/f2.jpeg'\n",
    "similar_urls = get_similar_images(input_url, n=3)\n",
    "display_images(input_url, similar_urls)"
   ]
  },
  {
   "cell_type": "markdown",
   "metadata": {},
   "source": [
    "## Experiment 2 : Given a text, get me N similar images from the dataset"
   ]
  },
  {
   "cell_type": "markdown",
   "metadata": {},
   "source": [
    "### Step 1 : Preparing dataset"
   ]
  },
  {
   "cell_type": "code",
   "execution_count": 10,
   "metadata": {},
   "outputs": [],
   "source": [
    "import matplotlib.pyplot as plt\n",
    "import json\n",
    "import requests\n",
    "import torch\n",
    "import clip\n",
    "from PIL import Image\n",
    "\n",
    "# Load the JSON file\n",
    "with open('data/temp_data.json') as f:\n",
    "    data = json.load(f)\n",
    "\n",
    "# Extract the image URLs and descriptions\n",
    "image_urls = [item['image_url'] for item in data]\n",
    "descriptions = [item['description'] for item in data]\n",
    "\n",
    "# Load the CLIP model and processor\n",
    "device = \"cuda\" if torch.cuda.is_available() else \"cpu\"\n",
    "model, preprocess = clip.load(\"ViT-B/32\", device=device)\n",
    "\n",
    "# Generate embeddings for each image\n",
    "image_embeddings = []\n",
    "for url in image_urls:\n",
    "    image = Image.open(requests.get(url, stream=True).raw)\n",
    "    image = preprocess(image).unsqueeze(0).to(device)\n",
    "    with torch.no_grad():\n",
    "        embedding = model.encode_image(image)\n",
    "    image_embeddings.append(embedding.cpu().numpy())\n",
    "\n",
    "# Convert the embeddings to a numpy array\n",
    "image_embeddings = np.array(image_embeddings)\n",
    "\n",
    "# Generate embeddings for each description\n",
    "text_embeddings = []\n",
    "for description in descriptions:\n",
    "    text = clip.tokenize([description]).to(device)\n",
    "    with torch.no_grad():\n",
    "        embedding = model.encode_text(text)\n",
    "    text_embeddings.append(embedding.cpu().numpy())\n",
    "\n",
    "# Convert the embeddings to a numpy array\n",
    "text_embeddings = np.array(text_embeddings)"
   ]
  },
  {
   "cell_type": "markdown",
   "metadata": {},
   "source": [
    "### Step 2 : Creating Functionality to query the dataset"
   ]
  },
  {
   "cell_type": "code",
   "execution_count": 11,
   "metadata": {},
   "outputs": [],
   "source": [
    "# Define the function to retrieve similar images based on a text query\n",
    "def get_similar_images(query, n=5, category=\"all\"):\n",
    "    # Generate the embedding for the query\n",
    "    text = clip.tokenize([query]).to(device)\n",
    "    with torch.no_grad():\n",
    "        embedding = model.encode_text(text)\n",
    "    embedding = embedding.cpu().numpy()\n",
    "\n",
    "    # Calculate the cosine similarity between the query embedding and all image embeddings\n",
    "    similarities = np.dot(image_embeddings, embedding.T).flatten()\n",
    "\n",
    "    # Retrieve the indices of the N most similar images\n",
    "    indices = np.argsort(similarities)[-n:][::-1]\n",
    "\n",
    "    # Retrieve the similar image URLs\n",
    "    similar_urls = [image_urls[i] for i in indices]\n",
    "\n",
    "    return similar_urls\n",
    "\n",
    "# Define the function to display the input image and the N most similar images\n",
    "def display_images(input_url, similar_urls):\n",
    "    # Display the input image\n",
    "    input_image = Image.open(requests.get(input_url, stream=True).raw)\n",
    "    plt.subplot(1, len(similar_urls) + 1, 1)\n",
    "    plt.imshow(input_image)\n",
    "    plt.title(\"Input Image\")\n",
    "    plt.axis(\"off\")\n",
    "\n",
    "    # Display the N most similar images\n",
    "    for i, url in enumerate(similar_urls):\n",
    "        image = Image.open(requests.get(url, stream=True).raw)\n",
    "        plt.subplot(1, len(similar_urls) + 1, i + 2)\n",
    "        plt.imshow(image)\n",
    "        plt.title(f\"Similar Image {i + 1}\")\n",
    "        plt.axis(\"off\")\n",
    "\n",
    "    plt.show()"
   ]
  },
  {
   "cell_type": "markdown",
   "metadata": {},
   "source": [
    "### Step 3 : Testing the functionality"
   ]
  },
  {
   "cell_type": "code",
   "execution_count": null,
   "metadata": {},
   "outputs": [
    {
     "data": {
      "image/png": "[encoded data removed]",
      "text/plain": [
       "<Figure size 640x480 with 4 Axes>"
      ]
     },
     "metadata": {},
     "output_type": "display_data"
    }
   ],
   "source": [
    "# Perform a text-based image retrieval and display the results\n",
    "query = \"napkins\"\n",
    "similar_urls = get_similar_images(query, n=3)\n",
    "display_images(image_urls[0], similar_urls)"
   ]
  },
  {
   "cell_type": "markdown",
   "metadata": {},
   "source": [
    "# Okay, now let's get started with the Final Flow"
   ]
  },
  {
   "cell_type": "markdown",
   "metadata": {},
   "source": [
    "### Initial Setup"
   ]
  },
  {
   "cell_type": "code",
   "execution_count": 12,
   "metadata": {},
   "outputs": [],
   "source": [
    "from PIL import Image\n",
    "from openai import OpenAI\n",
    "import numpy as np\n",
    "import json\n",
    "import requests\n",
    "import logging\n",
    "import matplotlib.pyplot as plt\n",
    "import json\n",
    "import requests\n",
    "import torch\n",
    "from PIL import Image\n",
    "import clip\n",
    "import requests\n",
    "from PIL import Image\n",
    "from io import BytesIO\n",
    "\n",
    "# Set up logging\n",
    "logging.basicConfig(level=logging.INFO)\n",
    "logger = logging.getLogger(__name__)\n",
    "\n",
    "client = OpenAI(api_key=\"ENTER API KEY\")\n",
    "\n",
    "# Let's create the text and image embeddings\n",
    "\n",
    "# Load the JSON file\n",
    "with open('data/temp_data.json') as f:\n",
    "    data = json.load(f)\n",
    "\n",
    "# Extract the image URLs and descriptions\n",
    "image_urls = [item['image_url'] for item in data]\n",
    "descriptions = [item['description'] for item in data]\n",
    "\n",
    "# Load the CLIP model and processor\n",
    "device = \"cuda\" if torch.cuda.is_available() else \"cpu\"\n",
    "model, preprocess = clip.load(\"ViT-B/32\", device=device)\n",
    "\n",
    "# Generate embeddings for each image\n",
    "image_embeddings = []\n",
    "for url in image_urls:\n",
    "    image = Image.open(requests.get(url, stream=True).raw)\n",
    "    image = preprocess(image).unsqueeze(0).to(device)\n",
    "    with torch.no_grad():\n",
    "        embedding = model.encode_image(image)\n",
    "    image_embeddings.append(embedding.cpu().numpy())\n",
    "\n",
    "# Convert the embeddings to a numpy array\n",
    "image_embeddings = np.array(image_embeddings)\n",
    "\n",
    "# Generate embeddings for each description\n",
    "text_embeddings = []\n",
    "for description in descriptions:\n",
    "    text = clip.tokenize([description]).to(device)\n",
    "    with torch.no_grad():\n",
    "        embedding = model.encode_text(text)\n",
    "    text_embeddings.append(embedding.cpu().numpy())\n",
    "\n",
    "# Convert the embeddings to a numpy array\n",
    "text_embeddings = np.array(text_embeddings)"
   ]
  },
  {
   "cell_type": "markdown",
   "metadata": {},
   "source": [
    "### Utility Functions"
   ]
  },
  {
   "cell_type": "code",
   "execution_count": 13,
   "metadata": {},
   "outputs": [],
   "source": [
    "# Define the function to display the input image and the N most similar images\n",
    "def display_images(input_url, similar_urls):\n",
    "    # Display the input image\n",
    "    input_image = Image.open(input_url)\n",
    "    plt.subplot(1, len(similar_urls) + 1, 1)\n",
    "    plt.imshow(input_image)\n",
    "    plt.title(\"Input Image\")\n",
    "    plt.axis(\"off\")\n",
    "\n",
    "    # Display the N most similar images\n",
    "    for i, url in enumerate(similar_urls):\n",
    "        image = Image.open(requests.get(url, stream=True).raw)\n",
    "        plt.subplot(1, len(similar_urls) + 1, i + 2)\n",
    "        plt.imshow(image)\n",
    "        plt.title(f\"Similar Image {i + 1}\")\n",
    "        plt.axis(\"off\")\n",
    "\n",
    "    plt.show()"
   ]
  },
  {
   "cell_type": "markdown",
   "metadata": {},
   "source": [
    "### Prompt Functionality"
   ]
  },
  {
   "cell_type": "code",
   "execution_count": 14,
   "metadata": {},
   "outputs": [],
   "source": [
    "def normal_chat(prompt):\n",
    "    logger.info(f\"Normal chat detected. Responding with the same prompt.\")\n",
    "    # Later change this to a proper response\n",
    "    return prompt\n",
    "\n",
    "def extract_n_category_prompt(prompt):\n",
    "    logger.info(f\"Extracting details from prompt: {prompt}\")\n",
    "    prompt=f\"Extract the number of similar images (N) and the category from the following prompt: '{prompt}'. If not sure about the category, default to 'all'. If not sure about the number of images, default to 3. Return response in strictly json format with keys 'N' and 'category'.\",\n",
    "    response = client.chat.completions.create(\n",
    "        model=\"gpt-3.5-turbo\",\n",
    "        messages=[\n",
    "            {\"role\": \"user\", \"content\": f\"{prompt}\"}\n",
    "        ]\n",
    "    )\n",
    "    return response.choices[0].message.content\n",
    "\n",
    "def extract_details_from_prompt(prompt):\n",
    "    logger.info(f\"Extracting details from prompt: {prompt}\")\n",
    "    try:\n",
    "        details = extract_n_category_prompt(prompt)\n",
    "        logger.info(f\"Received response from OpenAI: {details}\")\n",
    "        details_json = json.loads(details)\n",
    "        N = int(details_json.get(\"N\", 3))\n",
    "        category = details_json.get(\"category\", \"all\")\n",
    "    except json.JSONDecodeError as e:\n",
    "        logger.error(f\"JSON decode error: {e}\")\n",
    "        N, category = 3, \"all\"\n",
    "    except Exception as e:\n",
    "        logger.error(f\"Error in extracting details: {e}\")\n",
    "        N, category = 3, \"all\"\n",
    "    logger.info(f\"Extracted details - N: {N}, category: {category}\")\n",
    "    return N, category\n",
    "\n",
    "\n",
    "def extract_intent_from_promptO(prompt):\n",
    "    logger.info(f\"Extracting intent from prompt: {prompt}\")\n",
    "    prompt=f\"Extract the number of similar images (N) and the category from the following prompt: '{prompt}'. If not sure about the category, default to 'all'.Return response in strictly json format with keys 'N' and 'category'.\"\n",
    "    response = client.chat.completions.create(\n",
    "        model=\"gpt-3.5-turbo\",\n",
    "        messages=[\n",
    "            {\"role\": \"user\", \"content\": f\"{prompt}\"}\n",
    "        ]\n",
    "    )\n",
    "    return response.choices[0].message.content\n",
    "\n",
    "\n",
    "intents = {\n",
    "    \"normal_chat\": [\"chat\", \"talk\", \"hello\", \"hi\", \"hey\"],\n",
    "    \"show_similar\": [\"show similar\", \"similar images\", \"like these\", \"more like\"],\n",
    "    \"show_complementary\": [\"complementary\", \"go well with\", \"match this\", \"pair with\"]\n",
    "}\n",
    "\n",
    "def check_intent_with_keywords(user_input):\n",
    "    user_input = user_input.lower()\n",
    "    \n",
    "    for intent, keywords in intents.items():\n",
    "        for keyword in keywords:\n",
    "            if keyword in user_input:\n",
    "                return intent\n",
    "    \n",
    "    return None\n",
    "\n",
    "def check_intent_with_gpt(user_input):\n",
    "    prompt = (\n",
    "        \"You are an AI assistant. A user is interacting with a chatbot. \"\n",
    "        \"Based on the user's input, identify if the user is engaging in normal chat, \"\n",
    "        \"asking to show similar images, or asking for complementary items.\\n\\n\"\n",
    "        \"User input: \" + user_input + \"\\n\\n\"\n",
    "        \"Identify the intent as one of the following: normal_chat, show_similar, show_complementary. \"\n",
    "        \"Respond with the intent in the following JSON format: {\\\"intent\\\": \\\"<intent>\\\"}\"\n",
    "    )\n",
    "    logger.info(f\"Extracting intent from prompt: {prompt}\")\n",
    "    response = client.chat.completions.create(\n",
    "        model=\"gpt-3.5-turbo\",\n",
    "        messages=[  \n",
    "            {\"role\": \"user\", \"content\": f\"{prompt}\"}\n",
    "        ]\n",
    "    )\n",
    "    logger.info(f\"Received response from OpenAI: {response.choices[0].message.content}\")\n",
    "    intent = response.choices[0].message.content\n",
    "    intent_json = json.loads(intent)\n",
    "    intent = intent_json.get(\"intent\")\n",
    "    return intent\n",
    "\n",
    "\n",
    "def determine_intent(user_input):\n",
    "    # First layer: Keyword matching\n",
    "    intent = check_intent_with_keywords(user_input)\n",
    "    logger.info(f\"Intent from keyword matching: {intent}\")\n",
    "    \n",
    "    # Second layer: If no intent found, use GPT-3.5\n",
    "    if intent is None:\n",
    "        intent = check_intent_with_gpt(user_input)\n",
    "        intent_json = json.loads(intent)\n",
    "    \n",
    "    return intent"
   ]
  },
  {
   "cell_type": "markdown",
   "metadata": {},
   "source": [
    "### Getting Similar and Complementary Images"
   ]
  },
  {
   "cell_type": "code",
   "execution_count": 35,
   "metadata": {},
   "outputs": [],
   "source": [
    "import requests\n",
    "from PIL import Image\n",
    "from io import BytesIO\n",
    "import json\n",
    "import base64\n",
    "\n",
    "def analyze_image(image_url, input_prompt, category, n=3):\n",
    "    # Read the image from the URL\n",
    "    image = Image.open(image_url)\n",
    "\n",
    "    # Convert the image to base64\n",
    "    buffered = BytesIO()\n",
    "    image.save(buffered, format=\"JPEG\")\n",
    "    image_base64 = base64.b64encode(buffered.getvalue()).decode(\"utf-8\")\n",
    "\n",
    "    # Generate the prompt for the GPT-4 API\n",
    "    prompt = f\"\"\"Given an image and a prompt, analyze the image and the prompt and generate a JSON output with the following fields: \"items\", \"category\", and \"style\".\n",
    "                 The prompt is: \"{input_prompt}\".\n",
    "                 Use your understanding of home decor, style, and preferences to provide accurate and relevant suggestions for how to complete the room.\n",
    "                 The items field should be a list of {n} items that would go well with the item in the picture and the prompt. Each item should represent a title of an item that contains the style, color, and category of the item.\n",
    "                 The category should be set to \"{category}\".\n",
    "                 You have to choose between the styles in this list: [Modern, Traditional, Contemporary, Rustic, Eclectic, Minimalist, Bohemian, Industrial, Vintage, Farmhouse, Scandinavian, Mediterranean, Asian, Coastal, Tropical].\n",
    "                 Do not include the description of the item in the picture. Do not include the ```json ``` tag in the output.\n",
    "\n",
    "                 Example Input: An image representing a wooden dinner table and the prompt \"I have this dinner table, what wall art would go well with it?\"\n",
    "\n",
    "                 Example Output: {{\"items\": [\"Rustic Wooden Wall Art\", \"Modern Abstract Wall Art\", \"Coastal Nautical Wall Art\"], \"category\": \"Wall Art\", \"style\": \"Rustic\"}}\n",
    "                 \"\"\"\n",
    "    # DONOT UNCOMMENT THIS UNLESS NEEDED SINCE IT WILL CHARGE YOU GPT-4 API COSTS\n",
    "    \n",
    "    # response = client.chat.completions.create(\n",
    "    #     model=\"gpt-4o\",\n",
    "    #     messages=[\n",
    "    #         {\n",
    "    #         \"role\": \"user\",\n",
    "    #         \"content\": [\n",
    "    #             {\n",
    "    #             \"type\": \"text\",\n",
    "    #             \"text\": prompt,\n",
    "    #             },\n",
    "    #             {\n",
    "    #             \"type\": \"image_url\",\n",
    "    #             \"image_url\": {\n",
    "    #                 \"url\": f\"data:image/jpeg;base64,{image_base64}\",\n",
    "    #             },\n",
    "    #             }\n",
    "    #         ],\n",
    "    #         }\n",
    "    #     ],\n",
    "    #     max_tokens=300,\n",
    "    # )\n",
    "    # print(\"GPT 4-o response :\")\n",
    "    # print(response)\n",
    "    # # Extract relevant features from the response\n",
    "    # features = json.loads(response.choices[0].message.content)\n",
    "    response = '{\\n  \"items\": [\"Modern Clear Glass Dinner Plates\", \"Minimalist White Tablecloth\", \"Contemporary Metallic Silver Cutlery Set\"],\\n  \"category\": \"all\",\\n  \"style\": \"Contemporary\"\\n}'\n",
    "    features = json.loads(response)\n",
    "    return features\n",
    "\n",
    "# Define the function to retrieve similar images\n",
    "def get_similar_images(image_url, n=5, category=\"all\"):\n",
    "    # Generate the embedding for the input image\n",
    "    # image = Image.open(requests.get(image_url, stream=True).raw)\n",
    "    image = Image.open(image_url)\n",
    "    image = preprocess(image).unsqueeze(0).to(device)\n",
    "    with torch.no_grad():\n",
    "        embedding = model.encode_image(image)\n",
    "    embedding = embedding.cpu().numpy()\n",
    "\n",
    "    # Calculate the cosine similarity between the input embedding and all other embeddings\n",
    "    similarities = np.dot(image_embeddings, embedding.T).flatten()\n",
    "\n",
    "    # Retrieve the indices of the N most similar images\n",
    "    indices = np.argsort(similarities)[-n:][::-1]\n",
    "\n",
    "    # Retrieve the similar image URLs\n",
    "    similar_urls = [image_urls[i] for i in indices]\n",
    "\n",
    "    return similar_urls\n",
    "\n",
    "def image_from_text(query):\n",
    "    logger.info(f\"Retrieving images based on the text query: {query}\")\n",
    "    # Generate the embedding for the query\n",
    "    text = clip.tokenize([query]).to(device)\n",
    "    with torch.no_grad():\n",
    "        embedding = model.encode_text(text)\n",
    "    embedding = embedding.cpu().numpy()\n",
    "\n",
    "    # Calculate the cosine similarity between the query embedding and all image embeddings\n",
    "    similarities = np.dot(image_embeddings, embedding.T).flatten()\n",
    "\n",
    "    # Retrieve the indices of the N most similar images\n",
    "    indices = np.argsort(similarities)[-5:][::-1]\n",
    "\n",
    "    # Retrieve the similar image URLs\n",
    "    similar_urls = [image_urls[i] for i in indices]\n",
    "    logger.info(f\"Retrieved similar image URLs: {similar_urls}\")\n",
    "\n",
    "    return similar_urls\n",
    "\n",
    "def generate_images_from_output(output):\n",
    "    logger.info(f\"Generating images for the complementary items.\")\n",
    "    # Extract the item names from the output\n",
    "    items = output[\"items\"]\n",
    "\n",
    "    # Generate images for each item\n",
    "    item_images = []\n",
    "    for item in items:\n",
    "        logger.info(f\"Generating images for the item: {item}\")\n",
    "        # Generate the image URLs for the item\n",
    "        item_urls = image_from_text(item)\n",
    "\n",
    "        # Download the images and add them to the list\n",
    "        for url in item_urls:\n",
    "            logger.info(f\"Downloading image from URL: {url}\")\n",
    "            response = requests.get(url)\n",
    "            image = Image.open(BytesIO(response.content))\n",
    "            item_images.append(image)\n",
    "\n",
    "    return item_images\n",
    "\n",
    "def get_complementary_images(prompt, image_url, n=5, category=\"all\"):\n",
    "    # Analyze the image and get the output\n",
    "    logger.info(f\"Analyzing the image and prompt to generate complementary items.\")\n",
    "    output = analyze_image(image_url, prompt, category, n=3)\n",
    "    # Generate images for the complementary items\n",
    "    logger.info(f\"Output from the GPT-4o model: {output}\")\n",
    "    item_images = generate_images_from_output(output)\n",
    "    return item_images"
   ]
  },
  {
   "cell_type": "markdown",
   "metadata": {},
   "source": [
    "### Driver Function"
   ]
  },
  {
   "cell_type": "code",
   "execution_count": 37,
   "metadata": {},
   "outputs": [],
   "source": [
    "def driver_fn(prompt, image=None):\n",
    "    intent = check_intent_with_gpt(prompt)\n",
    "    if intent == \"normal_chat\":\n",
    "        return normal_chat(prompt)\n",
    "    elif intent == \"show_similar\":\n",
    "        if image:\n",
    "            N, category = extract_details_from_prompt(prompt)\n",
    "            similar_images = get_similar_images(image, n=N, category=category)\n",
    "            return similar_images\n",
    "        else:\n",
    "            return \"I don't have an image to show similar images for. Please provide an image URL.\"\n",
    "    elif intent == \"show_complementary\":\n",
    "        if image:\n",
    "            N, category = extract_details_from_prompt(prompt)\n",
    "            complementary_images = get_complementary_images(prompt, image, n=N, category=category)\n",
    "            return complementary_images\n",
    "        else:\n",
    "            return \"I don't have an image to show complementary images for. Please provide an image URL.\"\n",
    "    else:\n",
    "        return normal_chat(prompt)\n"
   ]
  },
  {
   "cell_type": "code",
   "execution_count": 38,
   "metadata": {},
   "outputs": [
    {
     "name": "stderr",
     "output_type": "stream",
     "text": [
      "INFO:__main__:Extracting intent from prompt: You are an AI assistant. A user is interacting with a chatbot. Based on the user's input, identify if the user is engaging in normal chat, asking to show similar images, or asking for complementary items.\n",
      "\n",
      "User input: Could you show me 4 more tables like this one ?\n",
      "\n",
      "Identify the intent as one of the following: normal_chat, show_similar, show_complementary. Respond with the intent in the following JSON format: {\"intent\": \"<intent>\"}\n",
      "INFO:httpx:HTTP Request: POST https://api.openai.com/v1/chat/completions \"HTTP/1.1 200 OK\"\n",
      "INFO:__main__:Received response from OpenAI: {\"intent\": \"show_similar\"}\n"
     ]
    },
    {
     "name": "stdout",
     "output_type": "stream",
     "text": [
      "I don't have an image to show similar images for. Please provide an image URL.\n"
     ]
    }
   ],
   "source": [
    "q1 = \"Could you show me 4 more tables like this one ?\"\n",
    "image_url = None\n",
    "sol = driver_fn(q1, image_url)\n",
    "print(sol)\n"
   ]
  },
  {
   "cell_type": "code",
   "execution_count": 39,
   "metadata": {},
   "outputs": [
    {
     "name": "stderr",
     "output_type": "stream",
     "text": [
      "INFO:__main__:Extracting intent from prompt: You are an AI assistant. A user is interacting with a chatbot. Based on the user's input, identify if the user is engaging in normal chat, asking to show similar images, or asking for complementary items.\n",
      "\n",
      "User input: Could you show me 4 more tables like this one ?\n",
      "\n",
      "Identify the intent as one of the following: normal_chat, show_similar, show_complementary. Respond with the intent in the following JSON format: {\"intent\": \"<intent>\"}\n",
      "INFO:httpx:HTTP Request: POST https://api.openai.com/v1/chat/completions \"HTTP/1.1 200 OK\"\n",
      "INFO:__main__:Received response from OpenAI: {\"intent\": \"show_similar\"}\n",
      "INFO:__main__:Extracting details from prompt: Could you show me 4 more tables like this one ?\n",
      "INFO:__main__:Extracting details from prompt: Could you show me 4 more tables like this one ?\n",
      "INFO:httpx:HTTP Request: POST https://api.openai.com/v1/chat/completions \"HTTP/1.1 200 OK\"\n",
      "INFO:__main__:Received response from OpenAI: {\n",
      "  \"N\": 4,\n",
      "  \"category\": \"all\"\n",
      "}\n",
      "INFO:__main__:Extracted details - N: 4, category: all\n"
     ]
    },
    {
     "name": "stdout",
     "output_type": "stream",
     "text": [
      "['https://shared-data-7374.s3.amazonaws.com/temp/3.jpeg', 'https://shared-data-7374.s3.amazonaws.com/temp/2.jpeg', 'https://shared-data-7374.s3.amazonaws.com/temp/8.jpg', 'https://shared-data-7374.s3.amazonaws.com/temp/5.jpeg']\n"
     ]
    }
   ],
   "source": [
    "q1 = \"Could you show me 4 more tables like this one ?\"\n",
    "image_url = 'data/f2.jpeg'\n",
    "sol = driver_fn(q1, image_url)\n",
    "print(sol)"
   ]
  },
  {
   "cell_type": "code",
   "execution_count": 40,
   "metadata": {},
   "outputs": [
    {
     "name": "stderr",
     "output_type": "stream",
     "text": [
      "INFO:__main__:Extracting intent from prompt: You are an AI assistant. A user is interacting with a chatbot. Based on the user's input, identify if the user is engaging in normal chat, asking to show similar images, or asking for complementary items.\n",
      "\n",
      "User input: Here's my table, could you show what plates go well with this 2 examples?\n",
      "\n",
      "Identify the intent as one of the following: normal_chat, show_similar, show_complementary. Respond with the intent in the following JSON format: {\"intent\": \"<intent>\"}\n",
      "INFO:httpx:HTTP Request: POST https://api.openai.com/v1/chat/completions \"HTTP/1.1 200 OK\"\n",
      "INFO:__main__:Received response from OpenAI: {\"intent\": \"show_complementary\"}\n",
      "INFO:__main__:Extracting details from prompt: Here's my table, could you show what plates go well with this 2 examples?\n",
      "INFO:__main__:Extracting details from prompt: Here's my table, could you show what plates go well with this 2 examples?\n",
      "INFO:httpx:HTTP Request: POST https://api.openai.com/v1/chat/completions \"HTTP/1.1 200 OK\"\n",
      "INFO:__main__:Received response from OpenAI: {\n",
      "  \"N\": 3,\n",
      "  \"category\": \"all\"\n",
      "}\n",
      "INFO:__main__:Extracted details - N: 3, category: all\n",
      "INFO:__main__:Analyzing the image and prompt to generate complementary items.\n",
      "INFO:__main__:Output from the GPT-4o model: {'items': ['Modern Clear Glass Dinner Plates', 'Minimalist White Tablecloth', 'Contemporary Metallic Silver Cutlery Set'], 'category': 'all', 'style': 'Contemporary'}\n",
      "INFO:__main__:Generating images for the complementary items.\n",
      "INFO:__main__:Generating images for the item: Modern Clear Glass Dinner Plates\n",
      "INFO:__main__:Retrieving images based on the text query: Modern Clear Glass Dinner Plates\n",
      "INFO:__main__:Retrieved similar image URLs: ['https://shared-data-7374.s3.amazonaws.com/temp/2.jpeg', 'https://shared-data-7374.s3.amazonaws.com/temp/1.jpeg', 'https://shared-data-7374.s3.amazonaws.com/temp/3.jpeg', 'https://shared-data-7374.s3.amazonaws.com/temp/8.jpg', 'https://shared-data-7374.s3.amazonaws.com/temp/7.jpg']\n",
      "INFO:__main__:Downloading image from URL: https://shared-data-7374.s3.amazonaws.com/temp/2.jpeg\n",
      "INFO:__main__:Downloading image from URL: https://shared-data-7374.s3.amazonaws.com/temp/1.jpeg\n",
      "INFO:__main__:Downloading image from URL: https://shared-data-7374.s3.amazonaws.com/temp/3.jpeg\n",
      "INFO:__main__:Downloading image from URL: https://shared-data-7374.s3.amazonaws.com/temp/8.jpg\n",
      "INFO:__main__:Downloading image from URL: https://shared-data-7374.s3.amazonaws.com/temp/7.jpg\n",
      "INFO:__main__:Generating images for the item: Minimalist White Tablecloth\n",
      "INFO:__main__:Retrieving images based on the text query: Minimalist White Tablecloth\n",
      "INFO:__main__:Retrieved similar image URLs: ['https://shared-data-7374.s3.amazonaws.com/temp/5.jpeg', 'https://shared-data-7374.s3.amazonaws.com/temp/7.jpg', 'https://shared-data-7374.s3.amazonaws.com/temp/8.jpg', 'https://shared-data-7374.s3.amazonaws.com/temp/1.jpeg', 'https://shared-data-7374.s3.amazonaws.com/temp/6.jpg']\n",
      "INFO:__main__:Downloading image from URL: https://shared-data-7374.s3.amazonaws.com/temp/5.jpeg\n",
      "INFO:__main__:Downloading image from URL: https://shared-data-7374.s3.amazonaws.com/temp/7.jpg\n",
      "INFO:__main__:Downloading image from URL: https://shared-data-7374.s3.amazonaws.com/temp/8.jpg\n",
      "INFO:__main__:Downloading image from URL: https://shared-data-7374.s3.amazonaws.com/temp/1.jpeg\n",
      "INFO:__main__:Downloading image from URL: https://shared-data-7374.s3.amazonaws.com/temp/6.jpg\n",
      "INFO:__main__:Generating images for the item: Contemporary Metallic Silver Cutlery Set\n",
      "INFO:__main__:Retrieving images based on the text query: Contemporary Metallic Silver Cutlery Set\n",
      "INFO:__main__:Retrieved similar image URLs: ['https://shared-data-7374.s3.amazonaws.com/temp/1.jpeg', 'https://shared-data-7374.s3.amazonaws.com/temp/7.jpg', 'https://shared-data-7374.s3.amazonaws.com/temp/8.jpg', 'https://shared-data-7374.s3.amazonaws.com/temp/2.jpeg', 'https://shared-data-7374.s3.amazonaws.com/temp/9.jpg']\n",
      "INFO:__main__:Downloading image from URL: https://shared-data-7374.s3.amazonaws.com/temp/1.jpeg\n",
      "INFO:__main__:Downloading image from URL: https://shared-data-7374.s3.amazonaws.com/temp/7.jpg\n",
      "INFO:__main__:Downloading image from URL: https://shared-data-7374.s3.amazonaws.com/temp/8.jpg\n",
      "INFO:__main__:Downloading image from URL: https://shared-data-7374.s3.amazonaws.com/temp/2.jpeg\n",
      "INFO:__main__:Downloading image from URL: https://shared-data-7374.s3.amazonaws.com/temp/9.jpg\n"
     ]
    },
    {
     "name": "stdout",
     "output_type": "stream",
     "text": [
      "[<PIL.JpegImagePlugin.JpegImageFile image mode=RGB size=2000x2000 at 0x14F07EB90>, <PIL.JpegImagePlugin.JpegImageFile image mode=RGB size=1600x1600 at 0x14F07CC40>, <PIL.JpegImagePlugin.JpegImageFile image mode=RGB size=2000x2000 at 0x14F07D210>, <PIL.JpegImagePlugin.JpegImageFile image mode=RGB size=894x715 at 0x14F07E6B0>, <PIL.JpegImagePlugin.JpegImageFile image mode=RGB size=894x894 at 0x14F07DC60>, <PIL.JpegImagePlugin.JpegImageFile image mode=RGB size=2528x2327 at 0x14F07DD20>, <PIL.JpegImagePlugin.JpegImageFile image mode=RGB size=894x894 at 0x14F07FDC0>, <PIL.JpegImagePlugin.JpegImageFile image mode=RGB size=894x715 at 0x14F07E8F0>, <PIL.JpegImagePlugin.JpegImageFile image mode=RGB size=1600x1600 at 0x14F07FBB0>, <PIL.JpegImagePlugin.JpegImageFile image mode=RGB size=894x894 at 0x14F07FFA0>, <PIL.JpegImagePlugin.JpegImageFile image mode=RGB size=1600x1600 at 0x14F07E350>, <PIL.JpegImagePlugin.JpegImageFile image mode=RGB size=894x894 at 0x14F07DF00>, <PIL.JpegImagePlugin.JpegImageFile image mode=RGB size=894x715 at 0x14F07E680>, <PIL.JpegImagePlugin.JpegImageFile image mode=RGB size=2000x2000 at 0x14F07D5A0>, <PIL.JpegImagePlugin.JpegImageFile image mode=RGB size=894x894 at 0x14F07D120>]\n"
     ]
    }
   ],
   "source": [
    "q1 = \"Here's my table, could you show what plates go well with this 2 examples?\"\n",
    "image_url = 'data/f2.jpeg'\n",
    "sol = driver_fn(q1, image_url) \n",
    "print(sol)"
   ]
  },
  {
   "cell_type": "code",
   "execution_count": 41,
   "metadata": {},
   "outputs": [],
   "source": [
    "# q1 = \"Could you show me 4 more tables like this one ?\"\n",
    "# image_url = \"data/f2.jpeg\"\n",
    "# sol = driver_fn(q1, image_url)\n",
    "# print(sol)"
   ]
  },
  {
   "cell_type": "code",
   "execution_count": 24,
   "metadata": {},
   "outputs": [],
   "source": [
    "# q1 = \"Could you show me 4 more tables like this one ?\"\n",
    "# image_url = 'data/f2.jpeg'\n",
    "# sol = driver_fn(q1, image_url)\n",
    "# print(sol)"
   ]
  },
  {
   "cell_type": "code",
   "execution_count": 25,
   "metadata": {},
   "outputs": [],
   "source": [
    "# def analyze_image(image_url, subcategories, n=3):\n",
    "#     # Read the image from the URL\n",
    "#     image = Image.open(image_url)\n",
    "    \n",
    "#     # Convert the image to base64\n",
    "#     buffered = BytesIO()\n",
    "#     image.save(buffered, format=\"JPEG\")\n",
    "#     image_base64 = base64.b64encode(buffered.getvalue()).decode(\"utf-8\")\n",
    "\n",
    "#     response = client.chat.completions.create(\n",
    "#         model=\"gpt-4o\",\n",
    "#         messages=[\n",
    "#             {\n",
    "#             \"role\": \"user\",\n",
    "#             \"content\": [\n",
    "#                 {\n",
    "#                 \"type\": \"text\",\n",
    "#                 \"text\": f\"\"\"Given an image, analyze the item and generate a JSON output with the following fields: \"items\", \"category\", and \"style\".\n",
    "#                            Use your understanding of home decor, style, and preferences to provide accurate and relevant suggestions for how to complete the room.\n",
    "#                            The items field should be a list of {n} items that would go well with the item in the picture. Each item should represent a title of an item that contains the style, color, and category of the item.\n",
    "#                            The category needs to be chosen between the types in this list: {subcategories}.\n",
    "#                            You have to choose between the styles in this list: [Modern, Traditional, Contemporary, Rustic, Eclectic, Minimalist, Bohemian, Industrial, Vintage, Farmhouse, Scandinavian, Mediterranean, Asian, Coastal, Tropical].\n",
    "#                            Do not include the description of the item in the picture. Do not include the ```json ``` tag in the output.\n",
    "\n",
    "#                            Example Input: An image representing a wooden dinner table.\n",
    "\n",
    "#                            Example Output: {{\"items\": [\"Set of 4 Modern White Dining Chairs\", \"Rustic Wooden Wall Art\", \"Modern Glass Vase\"], \"category\": \"Dinner Tables\", \"style\": \"Modern\"}}\n",
    "#                            \"\"\",\n",
    "#                 },\n",
    "#                 {\n",
    "#                 \"type\": \"image_url\",\n",
    "#                 \"image_url\": {\n",
    "#                     \"url\": f\"data:image/jpeg;base64,{image_base64}\",\n",
    "#                 },\n",
    "#                 }\n",
    "#             ],\n",
    "#             }\n",
    "#         ],\n",
    "#         max_tokens=300,\n",
    "#     )\n",
    "#     # Extract relevant features from the response\n",
    "#     features = response.choices[0].message.content\n",
    "#     return features\n"
   ]
  },
  {
   "cell_type": "code",
   "execution_count": 26,
   "metadata": {},
   "outputs": [],
   "source": [
    "# q1 = \"Here's my table, could you show what plates go well with this?\"\n",
    "# image_url = 'data/f2.jpeg'\n",
    "# sol = driver_fn(q1, image_url)\n",
    "# print(sol)"
   ]
  },
  {
   "cell_type": "code",
   "execution_count": 9,
   "metadata": {},
   "outputs": [],
   "source": [
    "# q1 = determine_intent(\"Could you show me 4 more images like these ?\")\n",
    "# q2 = determine_intent(\"Hey there, how are you ?\")\n",
    "# q3 = determine_intent(\"What can I match with this dinner table ?\")"
   ]
  },
  {
   "cell_type": "code",
   "execution_count": 57,
   "metadata": {},
   "outputs": [
    {
     "name": "stdout",
     "output_type": "stream",
     "text": [
      "show_similar\n",
      "normal_chat\n",
      "normal_chat\n"
     ]
    }
   ],
   "source": [
    "# print(q1)\n",
    "# print(q2)\n",
    "# print(q3)"
   ]
  },
  {
   "cell_type": "code",
   "execution_count": null,
   "metadata": {},
   "outputs": [],
   "source": []
  },
  {
   "cell_type": "code",
   "execution_count": null,
   "metadata": {},
   "outputs": [],
   "source": []
  },
  {
   "cell_type": "code",
   "execution_count": null,
   "metadata": {},
   "outputs": [],
   "source": []
  },
  {
   "cell_type": "code",
   "execution_count": null,
   "metadata": {},
   "outputs": [],
   "source": []
  },
  {
   "cell_type": "code",
   "execution_count": null,
   "metadata": {},
   "outputs": [],
   "source": []
  }
 ],
 "metadata": {
  "kernelspec": {
   "display_name": "retriever",
   "language": "python",
   "name": "python3"
  },
  "language_info": {
   "codemirror_mode": {
    "name": "ipython",
    "version": 3
   },
   "file_extension": ".py",
   "mimetype": "text/x-python",
   "name": "python",
   "nbconvert_exporter": "python",
   "pygments_lexer": "ipython3",
   "version": "3.10.14"
  }
 },
 "nbformat": 4,
 "nbformat_minor": 2
}
